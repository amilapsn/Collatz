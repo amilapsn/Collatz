{
 "cells": [
  {
   "cell_type": "markdown",
   "metadata": {},
   "source": [
    "# Collatz Problem"
   ]
  },
  {
   "cell_type": "markdown",
   "metadata": {},
   "source": [
    "Begin with any number. If the number is even get half. Otherwise multiply y 3 and add 1. Continue Process!"
   ]
  },
  {
   "cell_type": "markdown",
   "metadata": {},
   "source": [
    "In math simply if $n \\mod 2\\equiv 0$ then $n\\to \\frac{n}{2}$ or else $n\\to 3n+1$.\n",
    "In python apply following function again and again"
   ]
  },
  {
   "cell_type": "code",
   "execution_count": 3,
   "metadata": {
    "collapsed": false
   },
   "outputs": [],
   "source": [
    "def collatz(n):\n",
    "    if n%2:return 3*n+1\n",
    "    return n/2"
   ]
  },
  {
   "cell_type": "markdown",
   "metadata": {},
   "source": [
    "Collatz conjecture says no matter you begin with any number, you'll always end up with 1"
   ]
  },
  {
   "cell_type": "markdown",
   "metadata": {},
   "source": [
    "### Lets check if this is correct for couple of numbers, from **10** to **30**."
   ]
  },
  {
   "cell_type": "markdown",
   "metadata": {},
   "source": [
    "For that, we'll define another function that will print the chain of numbers untill one for a given begining number."
   ]
  },
  {
   "cell_type": "code",
   "execution_count": 4,
   "metadata": {
    "collapsed": false
   },
   "outputs": [],
   "source": [
    "def chain(n):\n",
    "    l = [n]\n",
    "    while n!=1:\n",
    "        n=collatz(n)\n",
    "        l.append(n)\n",
    "    return l"
   ]
  },
  {
   "cell_type": "markdown",
   "metadata": {},
   "source": [
    "Lets study some chains!"
   ]
  },
  {
   "cell_type": "markdown",
   "metadata": {},
   "source": [
    "It would be nicer if we have a beter representation of chains"
   ]
  },
  {
   "cell_type": "markdown",
   "metadata": {},
   "source": [
    "This will do that."
   ]
  },
  {
   "cell_type": "code",
   "execution_count": 5,
   "metadata": {
    "collapsed": false
   },
   "outputs": [],
   "source": [
    "from IPython.display import display, Math, Latex,display_latex\n",
    "def list2chain(l):\n",
    "    s=r'\\star'\n",
    "    limit = 76\n",
    "    counter = 20\n",
    "    for i in l:\n",
    "        s+=str(i)+r'\\to'\n",
    "        counter += len(str(i))+3 \n",
    "        flag=0\n",
    "        if counter>limit:s+=r'\\\\';counter=0;flag=1\n",
    "    if flag:display(Math((s[:-5])));return\n",
    "    display(Math((s[:-3])));return"
   ]
  },
  {
   "cell_type": "code",
   "execution_count": 6,
   "metadata": {
    "collapsed": false,
    "scrolled": true
   },
   "outputs": [
    {
     "data": {
      "text/latex": [
       "$$\\star10\\to5\\to16\\to8\\to4\\to2\\to1$$"
      ],
      "text/plain": [
       "<IPython.core.display.Math object>"
      ]
     },
     "metadata": {},
     "output_type": "display_data"
    },
    {
     "data": {
      "text/latex": [
       "$$\\star11\\to34\\to17\\to52\\to26\\to13\\to40\\to20\\to10\\to5\\to16\\to8\\to\\\\4\\to2\\to1$$"
      ],
      "text/plain": [
       "<IPython.core.display.Math object>"
      ]
     },
     "metadata": {},
     "output_type": "display_data"
    },
    {
     "data": {
      "text/latex": [
       "$$\\star12\\to6\\to3\\to10\\to5\\to16\\to8\\to4\\to2\\to1$$"
      ],
      "text/plain": [
       "<IPython.core.display.Math object>"
      ]
     },
     "metadata": {},
     "output_type": "display_data"
    },
    {
     "data": {
      "text/latex": [
       "$$\\star13\\to40\\to20\\to10\\to5\\to16\\to8\\to4\\to2\\to1$$"
      ],
      "text/plain": [
       "<IPython.core.display.Math object>"
      ]
     },
     "metadata": {},
     "output_type": "display_data"
    },
    {
     "data": {
      "text/latex": [
       "$$\\star14\\to7\\to22\\to11\\to34\\to17\\to52\\to26\\to13\\to40\\to20\\to10\\to\\\\5\\to16\\to8\\to4\\to2\\to1$$"
      ],
      "text/plain": [
       "<IPython.core.display.Math object>"
      ]
     },
     "metadata": {},
     "output_type": "display_data"
    },
    {
     "data": {
      "text/latex": [
       "$$\\star15\\to46\\to23\\to70\\to35\\to106\\to53\\to160\\to80\\to40\\to20\\to\\\\10\\to5\\to16\\to8\\to4\\to2\\to1$$"
      ],
      "text/plain": [
       "<IPython.core.display.Math object>"
      ]
     },
     "metadata": {},
     "output_type": "display_data"
    },
    {
     "data": {
      "text/latex": [
       "$$\\star16\\to8\\to4\\to2\\to1$$"
      ],
      "text/plain": [
       "<IPython.core.display.Math object>"
      ]
     },
     "metadata": {},
     "output_type": "display_data"
    },
    {
     "data": {
      "text/latex": [
       "$$\\star17\\to52\\to26\\to13\\to40\\to20\\to10\\to5\\to16\\to8\\to4\\to2\\to1$$"
      ],
      "text/plain": [
       "<IPython.core.display.Math object>"
      ]
     },
     "metadata": {},
     "output_type": "display_data"
    },
    {
     "data": {
      "text/latex": [
       "$$\\star18\\to9\\to28\\to14\\to7\\to22\\to11\\to34\\to17\\to52\\to26\\to13\\to\\\\40\\to20\\to10\\to5\\to16\\to8\\to4\\to2\\to1$$"
      ],
      "text/plain": [
       "<IPython.core.display.Math object>"
      ]
     },
     "metadata": {},
     "output_type": "display_data"
    },
    {
     "data": {
      "text/latex": [
       "$$\\star19\\to58\\to29\\to88\\to44\\to22\\to11\\to34\\to17\\to52\\to26\\to13\\to\\\\40\\to20\\to10\\to5\\to16\\to8\\to4\\to2\\to1$$"
      ],
      "text/plain": [
       "<IPython.core.display.Math object>"
      ]
     },
     "metadata": {},
     "output_type": "display_data"
    },
    {
     "data": {
      "text/latex": [
       "$$\\star20\\to10\\to5\\to16\\to8\\to4\\to2\\to1$$"
      ],
      "text/plain": [
       "<IPython.core.display.Math object>"
      ]
     },
     "metadata": {},
     "output_type": "display_data"
    },
    {
     "data": {
      "text/latex": [
       "$$\\star21\\to64\\to32\\to16\\to8\\to4\\to2\\to1$$"
      ],
      "text/plain": [
       "<IPython.core.display.Math object>"
      ]
     },
     "metadata": {},
     "output_type": "display_data"
    },
    {
     "data": {
      "text/latex": [
       "$$\\star22\\to11\\to34\\to17\\to52\\to26\\to13\\to40\\to20\\to10\\to5\\to16\\to\\\\8\\to4\\to2\\to1$$"
      ],
      "text/plain": [
       "<IPython.core.display.Math object>"
      ]
     },
     "metadata": {},
     "output_type": "display_data"
    },
    {
     "data": {
      "text/latex": [
       "$$\\star23\\to70\\to35\\to106\\to53\\to160\\to80\\to40\\to20\\to10\\to5\\to16\\to\\\\8\\to4\\to2\\to1$$"
      ],
      "text/plain": [
       "<IPython.core.display.Math object>"
      ]
     },
     "metadata": {},
     "output_type": "display_data"
    },
    {
     "data": {
      "text/latex": [
       "$$\\star24\\to12\\to6\\to3\\to10\\to5\\to16\\to8\\to4\\to2\\to1$$"
      ],
      "text/plain": [
       "<IPython.core.display.Math object>"
      ]
     },
     "metadata": {},
     "output_type": "display_data"
    },
    {
     "data": {
      "text/latex": [
       "$$\\star25\\to76\\to38\\to19\\to58\\to29\\to88\\to44\\to22\\to11\\to34\\to17\\to\\\\52\\to26\\to13\\to40\\to20\\to10\\to5\\to16\\to8\\to4\\to2\\to1$$"
      ],
      "text/plain": [
       "<IPython.core.display.Math object>"
      ]
     },
     "metadata": {},
     "output_type": "display_data"
    },
    {
     "data": {
      "text/latex": [
       "$$\\star26\\to13\\to40\\to20\\to10\\to5\\to16\\to8\\to4\\to2\\to1$$"
      ],
      "text/plain": [
       "<IPython.core.display.Math object>"
      ]
     },
     "metadata": {},
     "output_type": "display_data"
    },
    {
     "data": {
      "text/latex": [
       "$$\\star27\\to82\\to41\\to124\\to62\\to31\\to94\\to47\\to142\\to71\\to214\\to\\\\107\\to322\\to161\\to484\\to242\\to121\\to364\\to182\\to91\\to274\\to137\\to412\\to206\\to\\\\103\\to310\\to155\\to466\\to233\\to700\\to350\\to175\\to526\\to263\\to790\\to395\\to1186\\to\\\\593\\to1780\\to890\\to445\\to1336\\to668\\to334\\to167\\to502\\to251\\to754\\to377\\to1132\\to\\\\566\\to283\\to850\\to425\\to1276\\to638\\to319\\to958\\to479\\to1438\\to719\\to2158\\to1079\\to\\\\3238\\to1619\\to4858\\to2429\\to7288\\to3644\\to1822\\to911\\to2734\\to1367\\to4102\\to2051\\to\\\\6154\\to3077\\to9232\\to4616\\to2308\\to1154\\to577\\to1732\\to866\\to433\\to1300\\to650\\to\\\\325\\to976\\to488\\to244\\to122\\to61\\to184\\to92\\to46\\to23\\to70\\to35\\to106\\to53\\to\\\\160\\to80\\to40\\to20\\to10\\to5\\to16\\to8\\to4\\to2\\to1$$"
      ],
      "text/plain": [
       "<IPython.core.display.Math object>"
      ]
     },
     "metadata": {},
     "output_type": "display_data"
    },
    {
     "data": {
      "text/latex": [
       "$$\\star28\\to14\\to7\\to22\\to11\\to34\\to17\\to52\\to26\\to13\\to40\\to20\\to\\\\10\\to5\\to16\\to8\\to4\\to2\\to1$$"
      ],
      "text/plain": [
       "<IPython.core.display.Math object>"
      ]
     },
     "metadata": {},
     "output_type": "display_data"
    },
    {
     "data": {
      "text/latex": [
       "$$\\star29\\to88\\to44\\to22\\to11\\to34\\to17\\to52\\to26\\to13\\to40\\to20\\to\\\\10\\to5\\to16\\to8\\to4\\to2\\to1$$"
      ],
      "text/plain": [
       "<IPython.core.display.Math object>"
      ]
     },
     "metadata": {},
     "output_type": "display_data"
    }
   ],
   "source": [
    "for i in range(10,30,1):\n",
    "    list2chain(chain(i))"
   ]
  },
  {
   "cell_type": "markdown",
   "metadata": {},
   "source": [
    "As you can see, the chain begins with 27 is the _longest!_\n",
    "Collatz conjecture holds for numbers in the form of $2^n$."
   ]
  },
  {
   "cell_type": "code",
   "execution_count": 11,
   "metadata": {
    "collapsed": false
   },
   "outputs": [
    {
     "data": {
      "text/latex": [
       "$$\\star6561\\to19684\\to9842\\to4921\\to14764\\to7382\\to3691\\to11074\\to\\\\5537\\to16612\\to8306\\to4153\\to12460\\to6230\\to3115\\to9346\\to4673\\to14020\\to7010\\to\\\\3505\\to10516\\to5258\\to2629\\to7888\\to3944\\to1972\\to986\\to493\\to1480\\to740\\to370\\to\\\\185\\to556\\to278\\to139\\to418\\to209\\to628\\to314\\to157\\to472\\to236\\to118\\to59\\to\\\\178\\to89\\to268\\to134\\to67\\to202\\to101\\to304\\to152\\to76\\to38\\to19\\to58\\to29\\to\\\\88\\to44\\to22\\to11\\to34\\to17\\to52\\to26\\to13\\to40\\to20\\to10\\to5\\to16\\to8\\to4\\to\\\\2\\to1$$"
      ],
      "text/plain": [
       "<IPython.core.display.Math object>"
      ]
     },
     "metadata": {},
     "output_type": "display_data"
    }
   ],
   "source": [
    "list2chain(chain(729*3*3))"
   ]
  },
  {
   "cell_type": "code",
   "execution_count": null,
   "metadata": {
    "collapsed": true
   },
   "outputs": [],
   "source": []
  }
 ],
 "metadata": {
  "kernelspec": {
   "display_name": "Python 2",
   "language": "python",
   "name": "python2"
  },
  "language_info": {
   "codemirror_mode": {
    "name": "ipython",
    "version": 2
   },
   "file_extension": ".py",
   "mimetype": "text/x-python",
   "name": "python",
   "nbconvert_exporter": "python",
   "pygments_lexer": "ipython2",
   "version": "2.7.13"
  }
 },
 "nbformat": 4,
 "nbformat_minor": 2
}
