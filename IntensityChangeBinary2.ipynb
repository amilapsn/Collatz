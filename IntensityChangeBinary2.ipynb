{
 "cells": [
  {
   "cell_type": "code",
   "execution_count": 1,
   "metadata": {},
   "outputs": [
    {
     "data": {
      "text/html": [
       "<style>\n",
       "    @font-face {\n",
       "        font-family: \"Computer Modern\";\n",
       "        src: url('http://mirrors.ctan.org/fonts/cm-unicode/fonts/otf/cmunss.otf');\n",
       "    }\n",
       "    div.cell{\n",
       "        width: 90%;\n",
       "/*        margin-left:auto;*/\n",
       "/*        margin-right:auto;*/\n",
       "    }\n",
       "    ul {\n",
       "        line-height: 145%;\n",
       "        font-size: 90%;\n",
       "    }\n",
       "    li {\n",
       "        margin-bottom: 1em;\n",
       "    }\n",
       "    h1 {\n",
       "        font-family: \"nirmala ui\",Helvetica, serif;\n",
       "    }\n",
       "    h4{\n",
       "        margin-top: 12px;\n",
       "        margin-bottom: 3px;\n",
       "       }\n",
       "    div.text_cell_render{\n",
       "        font-family: Computer Modern, \"nirmala ui\", Arial, Helvetica, Geneva, sans-serif;\n",
       "        line-height: 145%;\n",
       "        font-size: 130%;\n",
       "        width: 90%;\n",
       "        margin-left:auto;\n",
       "        margin-right:auto;\n",
       "    }\n",
       "    .CodeMirror{\n",
       "            font-family: \"Source Code Pro\", source-code-pro,Consolas, monospace;\n",
       "    }\n",
       "\t.\n",
       "/*    .prompt{\n",
       "        display: None;\n",
       "    }*/\n",
       "    .notebook_app .rendered_html pre, .notebook_app .rendered_html code {\n",
       "\tfont-family: \"Source Code Pro\", source-code-pro,Consolas, monospace;\n",
       "    border: 0;\n",
       "    background-color: #444;\n",
       "    color: #b0b0b0;\n",
       "    padding: 0;\n",
       "  }\n",
       "\n",
       "    .warning{\n",
       "        color: rgb( 240, 20, 20 )\n",
       "        }\n",
       "</style>\n",
       "<script>\n",
       "    MathJax.Hub.Config({\n",
       "                        TeX: {\n",
       "                           extensions: [\"AMSmath.js\"]\n",
       "                           },\n",
       "                tex2jax: {\n",
       "                    inlineMath: [ ['$','$'], [\"\\\\(\",\"\\\\)\"] ],\n",
       "                    displayMath: [ ['$$','$$'], [\"\\\\[\",\"\\\\]\"] ]\n",
       "                },\n",
       "                displayAlign: 'center', // Change this to 'center' to center equations.\n",
       "                \"HTML-CSS\": {\n",
       "                    styles: {'.MathJax_Display': {\"margin\": 4}}\n",
       "                }\n",
       "        });\n",
       "</script>"
      ],
      "text/plain": [
       "<IPython.core.display.HTML object>"
      ]
     },
     "execution_count": 1,
     "metadata": {},
     "output_type": "execute_result"
    }
   ],
   "source": [
    "from IPython.core.display import HTML\n",
    "def css_styling():\n",
    "    styles = open(\"styles/custom.css\", \"r\").read()\n",
    "    return HTML(styles)\n",
    "css_styling()"
   ]
  },
  {
   "cell_type": "code",
   "execution_count": 2,
   "metadata": {
    "collapsed": true
   },
   "outputs": [],
   "source": [
    "import skvideo.io\n",
    "import skimage.io\n",
    "from skimage import color,exposure\n",
    "import skvideo.datasets\n",
    "import numpy as np\n",
    "import matplotlib.pyplot as plt\n",
    "%matplotlib inline"
   ]
  },
  {
   "cell_type": "code",
   "execution_count": 3,
   "metadata": {
    "collapsed": true
   },
   "outputs": [],
   "source": [
    "def frameCountError(reader,n):\n",
    "    # get total number of frames in the video\n",
    "    T = reader.getShape()[0]\n",
    "    # give error if n>T\n",
    "    if n>T:\n",
    "        reader.close()\n",
    "        raise ValueError(\"n should be less than or equal to %i, the total number frames in the video\"%T)"
   ]
  },
  {
   "cell_type": "markdown",
   "metadata": {},
   "source": [
    "# Algorithm 2\n",
    "![](Algo2.svg)"
   ]
  },
  {
   "cell_type": "code",
   "execution_count": 13,
   "metadata": {
    "collapsed": true
   },
   "outputs": [],
   "source": [
    "def getChange(frame,plane):\n",
    "    \"\"\"\n",
    "        this gives 3 outputs regarding the specified plane of rFrame and frame\n",
    "        inc: \n",
    "        dec:\n",
    "        incdec:\n",
    "    \"\"\"\n",
    "    # this is the transformation done:\n",
    "    rFrame = np.rot90(frame).reshape(frame.shape)\n",
    "    \n",
    "    inc = (rFrame[:,:,plane]>frame[:,:,plane])\n",
    "    dec =  (rFrame[:,:,plane]<frame[:,:,plane])\n",
    "    incdec = np.logical_or(inc, dec)\n",
    "    \n",
    "    return np.array([inc,dec,incdec])"
   ]
  },
  {
   "cell_type": "code",
   "execution_count": 14,
   "metadata": {
    "collapsed": true
   },
   "outputs": [],
   "source": [
    "adPath = \"D:/Ads/seperate trims/\"\n",
    "ads = [adPath+\"ADD_%i.mp4\"%i for i in range(1,9,1)]\n",
    "g_ads = [\"g_ad_%i.mp4\"%i for i in range(1,9,1)]"
   ]
  },
  {
   "cell_type": "code",
   "execution_count": 15,
   "metadata": {
    "collapsed": true
   },
   "outputs": [],
   "source": [
    "def getMatchScoreExtended(vid1,vid2,n):\n",
    "    \"\"\"give score using first 3 frames using same algo\n",
    "        as getMatchScore.\n",
    "    \"\"\"\n",
    "    reader1 = skvideo.io.FFmpegReader(vid1)\n",
    "    reader2 = skvideo.io.FFmpegReader(vid2)\n",
    "    frameCountError(reader1,n+1)\n",
    "    frameCountError(reader2,n+1)\n",
    "    out = 0\n",
    "    for i in range(n):\n",
    "        frameVid1,frameVid2 = reader1._readFrame(),reader2._readFrame()\n",
    "        inc1,dec1,incdec1 = getChange(frameVid1,1)\n",
    "        inc2,dec2,incdec2 = getChange(frameVid2,1)\n",
    "        interestPoints = np.logical_and(incdec1,incdec2)\n",
    "        cleanInc1,cleanInc2 = np.logical_and(interestPoints,np.array([inc1,inc2])) \n",
    "        incScoreMat = np.logical_xor(cleanInc1,cleanInc2)\n",
    "        incScore = np.sum(incScoreMat)\n",
    "        sumInterest = np.sum(interestPoints)\n",
    "        if sumInterest:\n",
    "            out += (incScore)/sumInterest\n",
    "    reader1.close()\n",
    "    reader2.close()\n",
    "    return out    "
   ]
  },
  {
   "cell_type": "code",
   "execution_count": 16,
   "metadata": {
    "collapsed": true
   },
   "outputs": [],
   "source": [
    "def getName(variable):\n",
    "    for k,v in list(globals().items()):\n",
    "        if v is variable:\n",
    "            return k"
   ]
  },
  {
   "cell_type": "code",
   "execution_count": 17,
   "metadata": {
    "collapsed": true
   },
   "outputs": [],
   "source": [
    "def getMatchness(matchFunc,list1,list2,n):\n",
    "    \"\"\"This function says how good the matchFunc is.\"\"\"\n",
    "    l = []\n",
    "    for i in range(8):\n",
    "        m = []\n",
    "        for j in range(8):\n",
    "            score = matchFunc(list1[j],list2[i],n)\n",
    "            m.append(score)\n",
    "        l.append(m)\n",
    "        \n",
    "    plt.imshow(l, cmap='hot', interpolation='nearest')\n",
    "    plt.xlabel(\"%s\"%getName(list1))\n",
    "    plt.ylabel(\"%s\"%getName(list2))\n",
    "    plt.show()"
   ]
  },
  {
   "cell_type": "code",
   "execution_count": 18,
   "metadata": {},
   "outputs": [
    {
     "data": {
      "image/png": "[encoded data removed]",
      "text/plain": [
       "<matplotlib.figure.Figure at 0x1e7c13ca048>"
      ]
     },
     "metadata": {},
     "output_type": "display_data"
    }
   ],
   "source": [
    "getMatchness(getMatchScoreExtended,ads,g_ads,1)"
   ]
  }
 ],
 "metadata": {
  "kernelspec": {
   "display_name": "Python 3",
   "language": "python",
   "name": "python3"
  },
  "language_info": {
   "codemirror_mode": {
    "name": "ipython",
    "version": 3
   },
   "file_extension": ".py",
   "mimetype": "text/x-python",
   "name": "python",
   "nbconvert_exporter": "python",
   "pygments_lexer": "ipython3",
   "version": "3.5.3"
  }
 },
 "nbformat": 4,
 "nbformat_minor": 2
}
